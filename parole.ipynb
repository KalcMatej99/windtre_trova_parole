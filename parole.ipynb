{
 "cells": [
  {
   "cell_type": "code",
   "execution_count": null,
   "metadata": {},
   "outputs": [],
   "source": [
    "import pandas as pd\n",
    "import math"
   ]
  },
  {
   "cell_type": "code",
   "execution_count": null,
   "metadata": {},
   "outputs": [],
   "source": [
    "word_length = 6\n",
    "\n",
    "df = pd.read_csv(\"./paroleitaliane/parole_uniche.csv\")"
   ]
  },
  {
   "cell_type": "code",
   "execution_count": null,
   "metadata": {},
   "outputs": [],
   "source": [
    "znane = \"______\"\n",
    "mozne = \"\"\n",
    "ne_mozne = \"\"\n",
    "mozne_ampak_ne_na_mestu_x = [\"\", \"\", \"\", \"\", \"\", \"\"]\n",
    "guessed_words = [\"\"]"
   ]
  },
  {
   "cell_type": "code",
   "execution_count": null,
   "metadata": {},
   "outputs": [],
   "source": [
    "word5 = [w[0].lower() for w in df.values if len(str(w[0])) == word_length and w[0].lower() not in guessed_words]"
   ]
  },
  {
   "cell_type": "code",
   "execution_count": null,
   "metadata": {},
   "outputs": [],
   "source": [
    "poss = [w for w in word5 if all(znana == c for znana, c in zip(znane, w) if znana != \"_\") and not any(ne_mozna in w for ne_mozna in ne_mozne) and all(mozna in w for mozna in mozne) and not any(any(m == w[i] for m in position) for i, position in enumerate(mozne_ampak_ne_na_mestu_x) if i < word_length)]"
   ]
  },
  {
   "cell_type": "code",
   "execution_count": null,
   "metadata": {},
   "outputs": [],
   "source": [
    "print(f\"Ci sono {len(poss)} parole possibili\")"
   ]
  },
  {
   "cell_type": "code",
   "execution_count": null,
   "metadata": {},
   "outputs": [],
   "source": [
    "poss"
   ]
  },
  {
   "cell_type": "code",
   "execution_count": null,
   "metadata": {},
   "outputs": [],
   "source": [
    "def get_mask(guess, answer):\n",
    "    # Mask defaults to all wrong and convert strings to lists\n",
    "    guess = list(guess)\n",
    "    answer = list(answer)\n",
    "    mask = [0] * word_length\n",
    "\n",
    "    # If exact match\n",
    "    for i in range(word_length):\n",
    "        if guess[i] == answer[i]:\n",
    "            mask[i] = 2\n",
    "            guess[i] = 'X'     # Make sure it doesn't get double counted\n",
    "            answer[i] = 'Y'\n",
    "\n",
    "    # Find anything in wrong spot\n",
    "    for i,l in enumerate(guess):\n",
    "        try:\n",
    "            j = answer.index(l)\n",
    "            mask[i] = 1\n",
    "            answer[j] = 'Y'\n",
    "        except ValueError as err:\n",
    "            pass\n",
    "    \n",
    "    # Convert to number (little-endian, so it reads the same way it was typed in)\n",
    "    mask.reverse()\n",
    "    return sum([(10**i)*v for i,v in enumerate(mask)])\n",
    "\n",
    "def make_guess(guessing_list, answer_list):\n",
    "\n",
    "    if len(answer_list) <= 2:\n",
    "        return answer_list[0]\n",
    "\n",
    "    results = []\n",
    "    max_entropy = -1\n",
    "    best_guess = \"idk\"\n",
    "\n",
    "    for guess_index, guess in enumerate(guessing_list):\n",
    "        #print(best_guess)\n",
    "        bins = {}\n",
    "        for a in answer_list:\n",
    "            mask = get_mask(guess, a)\n",
    "            if not mask in bins.keys():\n",
    "                bins[mask] = 1\n",
    "            else:\n",
    "                bins[mask] += 1\n",
    "\n",
    "        # Replace best guess if there's a word with better entropy\n",
    "        new_entropy = compute_entropy(bins.values())\n",
    "        results.append([guess, new_entropy])\n",
    "        if new_entropy > max_entropy:\n",
    "            max_entropy = new_entropy\n",
    "            best_guess = guess\n",
    "\n",
    "    df_rez = pd.DataFrame(results, columns=[\"guess\", \"entropy\"])\n",
    "    df_rez = df_rez.sort_values(by='entropy', ascending = False)\n",
    "    print(df_rez.head(50))\n",
    "\n",
    "    return best_guess\n",
    "\n",
    "def compute_entropy(int_list):\n",
    "    total = sum(int_list)\n",
    "    entropy = 0.0\n",
    "\n",
    "    for i in int_list:\n",
    "        p = i / total\n",
    "        entropy -= math.log(p) * p\n",
    "\n",
    "    return entropy\n",
    "\n",
    "print(\"Parole ottimali che coincidono con le attuali restrizioni.\")\n",
    "print(make_guess(poss, poss))\n",
    "print(\"Parole ottimali che non coincidono con le attuali restrizioni.\")\n",
    "print(make_guess(word5, poss))"
   ]
  }
 ],
 "metadata": {
  "kernelspec": {
   "display_name": "Python 3.10.5 64-bit",
   "language": "python",
   "name": "python3"
  },
  "language_info": {
   "codemirror_mode": {
    "name": "ipython",
    "version": 3
   },
   "file_extension": ".py",
   "mimetype": "text/x-python",
   "name": "python",
   "nbconvert_exporter": "python",
   "pygments_lexer": "ipython3",
   "version": "3.10.5"
  },
  "orig_nbformat": 4,
  "vscode": {
   "interpreter": {
    "hash": "97cc609b13305c559618ec78a438abc56230b9381f827f22d070313b9a1f3777"
   }
  }
 },
 "nbformat": 4,
 "nbformat_minor": 2
}
